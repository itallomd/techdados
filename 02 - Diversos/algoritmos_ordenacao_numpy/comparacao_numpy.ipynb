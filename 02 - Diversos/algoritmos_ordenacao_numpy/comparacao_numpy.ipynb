{
 "cells": [
  {
   "cell_type": "code",
   "execution_count": 1,
   "id": "3db2b2e5-6ea3-48c4-94f7-45cff37a46d0",
   "metadata": {
    "tags": []
   },
   "outputs": [],
   "source": [
    "import numpy as np\n",
    "import math"
   ]
  },
  {
   "cell_type": "code",
   "execution_count": 15,
   "id": "12444290-0580-475e-9b0c-8240fa1e45da",
   "metadata": {
    "tags": []
   },
   "outputs": [],
   "source": [
    "np.random.seed(0)\n",
    "aleatorio = np.random.randint(1,10000, 10000)\n",
    "crescente =  np.sort(aleatorio)"
   ]
  },
  {
   "cell_type": "markdown",
   "id": "4514b9f7-ab3e-448f-ae5f-4ee47815c883",
   "metadata": {},
   "source": [
    "# HeapSort"
   ]
  },
  {
   "cell_type": "markdown",
   "id": "94fe919f-ff6d-41f0-85d9-f4cbf98298e6",
   "metadata": {},
   "source": [
    "Fonte: https://www.geeksforgeeks.org/heap-sort/\n",
    "\n",
    "Acessado em: 02/09/2024"
   ]
  },
  {
   "cell_type": "code",
   "execution_count": 4,
   "id": "086e30c4-0019-4c19-bf5e-e02ba4fa3933",
   "metadata": {
    "tags": []
   },
   "outputs": [],
   "source": [
    "# To heapify subtree rooted at index i.\n",
    "# n is size of heap\n",
    "\n",
    "\n",
    "def heapify(arr, N, i):\n",
    "    largest = i  # Initialize largest as root\n",
    "    l = 2 * i + 1     # left = 2*i + 1\n",
    "    r = 2 * i + 2     # right = 2*i + 2\n",
    "\n",
    "    # See if left child of root exists and is\n",
    "    # greater than root\n",
    "    if l < N and arr[largest] < arr[l]:\n",
    "        largest = l\n",
    "\n",
    "    # See if right child of root exists and is\n",
    "    # greater than root\n",
    "    if r < N and arr[largest] < arr[r]:\n",
    "        largest = r\n",
    "\n",
    "    # Change root, if needed\n",
    "    if largest != i:\n",
    "        arr[i], arr[largest] = arr[largest], arr[i]  # swap\n",
    "\n",
    "        # Heapify the root.\n",
    "        heapify(arr, N, largest)\n",
    "\n",
    "# The main function to sort an array of given size\n",
    "\n",
    "\n",
    "def heapSort(arr):\n",
    "    N = len(arr)\n",
    "\n",
    "    # Build a maxheap.\n",
    "    for i in range(N//2 - 1, -1, -1):\n",
    "        heapify(arr, N, i)\n",
    "\n",
    "    # One by one extract elements\n",
    "    for i in range(N-1, 0, -1):\n",
    "        arr[i], arr[0] = arr[0], arr[i]  # swap\n",
    "        heapify(arr, i, 0)\n"
   ]
  },
  {
   "cell_type": "code",
   "execution_count": 5,
   "id": "7b0d5b7a-12bf-4167-97ee-3ed5f239aaaf",
   "metadata": {
    "tags": []
   },
   "outputs": [
    {
     "name": "stdout",
     "output_type": "stream",
     "text": [
      "132 ms ± 1.55 ms per loop (mean ± std. dev. of 7 runs, 10 loops each)\n"
     ]
    }
   ],
   "source": [
    "%%timeit\n",
    "vetor = aleatorio.copy()\n",
    "heapSort(vetor)"
   ]
  },
  {
   "cell_type": "code",
   "execution_count": 7,
   "id": "e634dc7a-234d-4717-9ef5-2b454b277fc3",
   "metadata": {
    "tags": []
   },
   "outputs": [
    {
     "name": "stdout",
     "output_type": "stream",
     "text": [
      "898 µs ± 2.32 µs per loop (mean ± std. dev. of 7 runs, 1000 loops each)\n"
     ]
    }
   ],
   "source": [
    "%%timeit\n",
    "vetor = aleatorio.copy()\n",
    "np.sort(vetor, kind='heapsort')"
   ]
  },
  {
   "cell_type": "code",
   "execution_count": 16,
   "id": "a73072a7-7dc0-4cd4-b9a1-5df1c81c734b",
   "metadata": {
    "tags": []
   },
   "outputs": [
    {
     "name": "stdout",
     "output_type": "stream",
     "text": [
      "129 ms ± 2.25 ms per loop (mean ± std. dev. of 7 runs, 10 loops each)\n"
     ]
    }
   ],
   "source": [
    "%%timeit\n",
    "vetor = crescente.copy()\n",
    "heapSort(vetor)"
   ]
  },
  {
   "cell_type": "code",
   "execution_count": 17,
   "id": "14433745-9b89-4263-8a0b-c5978d68aad5",
   "metadata": {
    "tags": []
   },
   "outputs": [
    {
     "name": "stdout",
     "output_type": "stream",
     "text": [
      "664 µs ± 12.8 µs per loop (mean ± std. dev. of 7 runs, 1000 loops each)\n"
     ]
    }
   ],
   "source": [
    "%%timeit\n",
    "vetor = crescente.copy()\n",
    "np.sort(vetor, kind='heapsort')"
   ]
  },
  {
   "cell_type": "markdown",
   "id": "3d9bdd46-a5ff-4b7e-8b4e-cb0e6bdbeaeb",
   "metadata": {},
   "source": [
    "### Crescente"
   ]
  },
  {
   "cell_type": "markdown",
   "id": "9ba54e33-248a-4549-98ba-8e6cb0b625a8",
   "metadata": {},
   "source": [
    "# Quicksort"
   ]
  },
  {
   "cell_type": "markdown",
   "id": "5db38de3-c77e-435c-ad97-a00b04f7beb1",
   "metadata": {},
   "source": [
    "Fonte: https://panda.ime.usp.br/panda/static/pythonds_pt/05-OrdenacaoBusca/OQuickSort.html\n",
    "\n",
    "Acesso em 02/09/2024"
   ]
  },
  {
   "cell_type": "code",
   "execution_count": 9,
   "id": "550ae5c9-a0d0-4a96-8c69-2cfbe0648e96",
   "metadata": {
    "tags": []
   },
   "outputs": [],
   "source": [
    "def quickSort(alist, pivot):\n",
    "    quickSortHelper(alist,0,len(alist)-1, pivot)\n",
    "\n",
    "def quickSortHelper(alist,first,last, pivot):\n",
    "    if first<last:\n",
    "\n",
    "        splitpoint = partition(alist,first,last, pivot)\n",
    "\n",
    "        quickSortHelper(alist,first,splitpoint-1, pivot)\n",
    "        quickSortHelper(alist,splitpoint+1,last, pivot)\n",
    "\n",
    "\n",
    "def partition(alist,first,last, pivot):\n",
    "    if pivot=='first':\n",
    "        pivotvalue = alist[first]\n",
    "    elif pivot=='last':\n",
    "        pivotvalue = alist[last-1]\n",
    "    elif pivot=='middle':\n",
    "        pivotvalue = alist[math.ceil((last+first)/2)]\n",
    "    elif pivot=='random':\n",
    "        pivotvalue = alist[np.random.randint(0,last, 1)[0]]\n",
    "    leftmark = first+1\n",
    "    rightmark = last\n",
    "\n",
    "    done = False\n",
    "    while not done:\n",
    "\n",
    "        while leftmark <= rightmark and alist[leftmark] <= pivotvalue:\n",
    "            leftmark = leftmark + 1\n",
    "\n",
    "        while alist[rightmark] >= pivotvalue and rightmark >= leftmark:\n",
    "            rightmark = rightmark -1\n",
    "\n",
    "        if rightmark < leftmark:\n",
    "            done = True\n",
    "        else:\n",
    "            temp = alist[leftmark]\n",
    "            alist[leftmark] = alist[rightmark]\n",
    "            alist[rightmark] = temp\n",
    "\n",
    "    temp = alist[first]\n",
    "    alist[first] = alist[rightmark]\n",
    "    alist[rightmark] = temp\n",
    "\n",
    "\n",
    "    return rightmark\n",
    "\n"
   ]
  },
  {
   "cell_type": "code",
   "execution_count": 20,
   "id": "1355fa9d-4dde-4f16-9126-3ce872ee6e20",
   "metadata": {
    "tags": []
   },
   "outputs": [
    {
     "name": "stdout",
     "output_type": "stream",
     "text": [
      "52.1 ms ± 5.35 ms per loop (mean ± std. dev. of 7 runs, 10 loops each)\n"
     ]
    }
   ],
   "source": [
    "%%timeit\n",
    "\n",
    "vetor = aleatorio.copy()\n",
    "quickSort(vetor, 'first')"
   ]
  },
  {
   "cell_type": "code",
   "execution_count": 8,
   "id": "56a27e7b-b2ec-4926-8977-e5bb1e57eb1d",
   "metadata": {
    "tags": []
   },
   "outputs": [
    {
     "name": "stdout",
     "output_type": "stream",
     "text": [
      "99.4 µs ± 1.39 µs per loop (mean ± std. dev. of 7 runs, 10000 loops each)\n"
     ]
    }
   ],
   "source": [
    "%%timeit\n",
    "vetor = aleatorio.copy()\n",
    "np.sort(vetor, kind='quicksort')"
   ]
  },
  {
   "cell_type": "code",
   "execution_count": 23,
   "id": "5c68861d-80b7-46a0-81ce-09c5ecaa8c46",
   "metadata": {
    "tags": []
   },
   "outputs": [
    {
     "name": "stdout",
     "output_type": "stream",
     "text": [
      "27.4 ms ± 693 µs per loop (mean ± std. dev. of 7 runs, 10 loops each)\n"
     ]
    }
   ],
   "source": [
    "%%timeit\n",
    "vetor = crescente.copy()\n",
    "quickSort(vetor, 'middle')"
   ]
  },
  {
   "cell_type": "code",
   "execution_count": 24,
   "id": "fc4e46cf-6411-435c-9079-c335f352dddd",
   "metadata": {
    "tags": []
   },
   "outputs": [
    {
     "name": "stdout",
     "output_type": "stream",
     "text": [
      "88.3 µs ± 505 ns per loop (mean ± std. dev. of 7 runs, 10000 loops each)\n"
     ]
    }
   ],
   "source": [
    "%%timeit\n",
    "vetor = crescente.copy()\n",
    "np.sort(vetor, kind='quicksort')"
   ]
  },
  {
   "cell_type": "markdown",
   "id": "3f9725e9-2bb3-44b0-8a2d-77ff37e44310",
   "metadata": {},
   "source": [
    "# Mergesort"
   ]
  },
  {
   "cell_type": "markdown",
   "id": "9b9735de-af22-4169-96f3-6c75f33f23c3",
   "metadata": {},
   "source": [
    "Fonte: https://panda.ime.usp.br/panda/static/pythonds_pt/05-OrdenacaoBusca/OMergeSort.html\n",
    "\n",
    "Acessado em 02/09/2024"
   ]
  },
  {
   "cell_type": "code",
   "execution_count": 11,
   "id": "08bcd53f-36d0-4f43-b064-9c7b6347eb9e",
   "metadata": {
    "tags": []
   },
   "outputs": [],
   "source": [
    "def mergeSort(alist):\n",
    "    #print(\"Splitting \",alist)\n",
    "    if len(alist)>1:\n",
    "        mid = len(alist)//2\n",
    "        lefthalf = alist[:mid]\n",
    "        righthalf = alist[mid:]\n",
    "\n",
    "        mergeSort(lefthalf)\n",
    "        mergeSort(righthalf)\n",
    "\n",
    "        i=0\n",
    "        j=0\n",
    "        k=0\n",
    "        while i < len(lefthalf) and j < len(righthalf):\n",
    "            if lefthalf[i] < righthalf[j]:\n",
    "                alist[k]=lefthalf[i]\n",
    "                i=i+1\n",
    "            else:\n",
    "                alist[k]=righthalf[j]\n",
    "                j=j+1\n",
    "            k=k+1\n",
    "\n",
    "        while i < len(lefthalf):\n",
    "            alist[k]=lefthalf[i]\n",
    "            i=i+1\n",
    "            k=k+1\n",
    "\n",
    "        while j < len(righthalf):\n",
    "            alist[k]=righthalf[j]\n",
    "            j=j+1\n",
    "            k=k+1\n",
    "    #print(\"Merging \",alist)"
   ]
  },
  {
   "cell_type": "code",
   "execution_count": 12,
   "id": "27aaf0bb-a8aa-4f17-967f-16e695bff9fa",
   "metadata": {
    "tags": []
   },
   "outputs": [
    {
     "name": "stdout",
     "output_type": "stream",
     "text": [
      "71.7 ms ± 2.34 ms per loop (mean ± std. dev. of 7 runs, 10 loops each)\n"
     ]
    }
   ],
   "source": [
    "%%timeit\n",
    "\n",
    "vetor = aleatorio.copy()\n",
    "mergeSort(vetor)"
   ]
  },
  {
   "cell_type": "code",
   "execution_count": 29,
   "id": "7f13efd4-85ec-4b0f-a508-e97fa1518734",
   "metadata": {
    "tags": []
   },
   "outputs": [
    {
     "name": "stdout",
     "output_type": "stream",
     "text": [
      "599 µs ± 1.24 µs per loop (mean ± std. dev. of 7 runs, 1000 loops each)\n"
     ]
    }
   ],
   "source": [
    "%%timeit\n",
    "vetor = aleatorio.copy()\n",
    "np.sort(vetor, kind='mergesort')"
   ]
  },
  {
   "cell_type": "code",
   "execution_count": 25,
   "id": "5bef5386-ce0c-4d94-992e-a9e358dde4c0",
   "metadata": {
    "tags": []
   },
   "outputs": [
    {
     "name": "stdout",
     "output_type": "stream",
     "text": [
      "55.3 ms ± 190 µs per loop (mean ± std. dev. of 7 runs, 10 loops each)\n"
     ]
    }
   ],
   "source": [
    "%%timeit\n",
    "\n",
    "vetor = crescente.copy()\n",
    "mergeSort(vetor)"
   ]
  },
  {
   "cell_type": "code",
   "execution_count": 28,
   "id": "17f5ff82-bd77-47fa-90c6-d84f874928fd",
   "metadata": {
    "tags": []
   },
   "outputs": [
    {
     "name": "stdout",
     "output_type": "stream",
     "text": [
      "10.8 µs ± 45.8 ns per loop (mean ± std. dev. of 7 runs, 100000 loops each)\n"
     ]
    }
   ],
   "source": [
    "%%timeit\n",
    "vetor = crescente.copy()\n",
    "np.sort(vetor, kind='mergesort')"
   ]
  },
  {
   "cell_type": "code",
   "execution_count": null,
   "id": "46c0e5d2-4ba6-4fde-9d45-5d0369b1a713",
   "metadata": {},
   "outputs": [],
   "source": []
  }
 ],
 "metadata": {
  "kernelspec": {
   "display_name": "default:Python",
   "language": "python",
   "name": "conda-env-default-py"
  },
  "language_info": {
   "codemirror_mode": {
    "name": "ipython",
    "version": 3
   },
   "file_extension": ".py",
   "mimetype": "text/x-python",
   "name": "python",
   "nbconvert_exporter": "python",
   "pygments_lexer": "ipython3",
   "version": "3.9.16"
  }
 },
 "nbformat": 4,
 "nbformat_minor": 5
}
