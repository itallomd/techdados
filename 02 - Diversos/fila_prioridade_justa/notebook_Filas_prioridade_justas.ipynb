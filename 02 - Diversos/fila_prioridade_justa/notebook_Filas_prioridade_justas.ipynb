{
 "cells": [
  {
   "cell_type": "markdown",
   "id": "e915b842",
   "metadata": {},
   "source": [
    "Referências:\n",
    "    \n",
    "    - https://www.geeksforgeeks.org/priority-queue-in-python/?ref=oin_asr6\n",
    "    \n",
    "    Código inicial de filas. A partir deste, foram gerados as variações das filas propostas neste trabalho."
   ]
  },
  {
   "cell_type": "markdown",
   "id": "28a827db",
   "metadata": {},
   "source": [
    "### Criação do conjunto de dados"
   ]
  },
  {
   "cell_type": "code",
   "execution_count": 1,
   "id": "b1ff28d6",
   "metadata": {},
   "outputs": [],
   "source": [
    "import pandas as pd\n",
    "import numpy as np\n",
    "import matplotlib.pyplot as plt\n",
    "from time import sleep\n",
    "import random\n",
    "import seaborn as sns\n",
    "#sns.set_style('whitegrid')"
   ]
  },
  {
   "cell_type": "code",
   "execution_count": 2,
   "id": "41504492",
   "metadata": {},
   "outputs": [
    {
     "data": {
      "image/png": "[encoded data removed]",
      "text/plain": [
       "<Figure size 720x504 with 1 Axes>"
      ]
     },
     "metadata": {
      "needs_background": "light"
     },
     "output_type": "display_data"
    }
   ],
   "source": [
    "np.random.seed(10)\n",
    "tempo_consulta = np.random.lognormal(mean=2, sigma=0.5, size=5000)\n",
    "\n",
    "plt.figure(figsize=(10,7))\n",
    "plt.hist(tempo_consulta, bins=30)\n",
    "plt.xlabel('Tempo (minutos)')\n",
    "plt.ylabel('Número de pacientes')\n",
    "plt.title('Distribuição de tempo de permanência em consulta por paciente')\n",
    "plt.savefig('Grafico1')"
   ]
  },
  {
   "cell_type": "code",
   "execution_count": 3,
   "id": "10371909",
   "metadata": {},
   "outputs": [
    {
     "data": {
      "image/png": "[encoded data removed]",
      "text/plain": [
       "<Figure size 504x504 with 1 Axes>"
      ]
     },
     "metadata": {
      "needs_background": "light"
     },
     "output_type": "display_data"
    }
   ],
   "source": [
    "plt.figure(figsize=(7,7))\n",
    "plt.boxplot(tempo_consulta)\n",
    "plt.title('Boxplot do tempo de duração de cada consulta')\n",
    "plt.savefig('Grafico2')"
   ]
  },
  {
   "cell_type": "code",
   "execution_count": 4,
   "id": "3bb5b4f2",
   "metadata": {},
   "outputs": [
    {
     "name": "stdout",
     "output_type": "stream",
     "text": [
      "Tempo de consulta médio: 8.229683016808611\n",
      "Tempo de consulta mediano: 7.303019741038948\n",
      "Tempo de consulta mínimo: 1.3686522469170208\n",
      "Tempo de consulta máximo: 44.906401354633424\n"
     ]
    }
   ],
   "source": [
    "print('Tempo de consulta médio:',tempo_consulta.mean())\n",
    "print('Tempo de consulta mediano:',np.median(tempo_consulta)) \n",
    "print('Tempo de consulta mínimo:',np.min(tempo_consulta))\n",
    "print('Tempo de consulta máximo:',np.max(tempo_consulta))"
   ]
  },
  {
   "cell_type": "code",
   "execution_count": 5,
   "id": "ae1a8ff4",
   "metadata": {},
   "outputs": [
    {
     "name": "stdout",
     "output_type": "stream",
     "text": [
      "Soma das porcentagens(precisa ser igual a 1): 1.0\n"
     ]
    }
   ],
   "source": [
    "# Porcentagem em cada prioridade\n",
    "random.seed(10)\n",
    "p0, p1, p2, p3, p4 = 0.05 ,0.1,0.15, 0.40, 0.30\n",
    "\n",
    "# CRISE \n",
    "#p0, p1, p2, p3, p4 = 0.75 ,0.05,0.05, 0.10, 0.05 \n",
    "\n",
    "print('Soma das porcentagens(precisa ser igual a 1):', p0+p1+p2+p3+p4)\n",
    "\n",
    "prioridade0 = np.random.randint(0, 1, int(p0*5000))\n",
    "prioridade1 = np.random.randint(1, 2, int(p1*5000))\n",
    "prioridade2 = np.random.randint(2, 3, int(p2*5000))\n",
    "prioridade3 = np.random.randint(3, 4, int(p3*5000))\n",
    "prioridade4 = np.random.randint(4, 5, int(p4*5000))\n",
    "\n",
    "prioridades = np.concatenate((prioridade0,prioridade1,prioridade2,prioridade3,prioridade4))\n",
    "random.shuffle(prioridades)"
   ]
  },
  {
   "cell_type": "code",
   "execution_count": 6,
   "id": "cbe9bcdb",
   "metadata": {},
   "outputs": [
    {
     "data": {
      "text/plain": [
       "(array([0, 1, 2, 3, 4]), array([ 250,  500,  750, 2000, 1500], dtype=int64))"
      ]
     },
     "execution_count": 6,
     "metadata": {},
     "output_type": "execute_result"
    }
   ],
   "source": [
    "np.unique(prioridades, return_counts=True)"
   ]
  },
  {
   "cell_type": "code",
   "execution_count": 7,
   "id": "9355238a",
   "metadata": {},
   "outputs": [],
   "source": [
    "df = pd.DataFrame(([tempo_consulta, prioridades]), index=['tempo_atend', 'prio']).T"
   ]
  },
  {
   "cell_type": "markdown",
   "id": "c8d0308d",
   "metadata": {},
   "source": [
    "Publico inicial é de 10 pessoas aguardando. Sempre teremos este número de pessoas, potanto o dataframe varrera de 10 em 10 elementos. "
   ]
  },
  {
   "cell_type": "markdown",
   "id": "9aa7a969",
   "metadata": {},
   "source": [
    "# Implementação sem prioridade nenhuma"
   ]
  },
  {
   "cell_type": "code",
   "execution_count": 8,
   "id": "0c7185aa",
   "metadata": {},
   "outputs": [],
   "source": [
    "# A simple implementation of Priority Queue\n",
    "# using Queue.\n",
    "class PriorityQueue(object):\n",
    "    def __init__(self):\n",
    "        self.tempo_atendimento = []\n",
    "        self.priority = []\n",
    "        self.waiting_time = []\n",
    "        self.saida = []\n",
    " \n",
    "    def __str__(self):\n",
    "        return ' '.join([str(i) for i in self.tempo_atendimento])\n",
    " \n",
    "    # for checking if the queue is empty\n",
    "    def isEmpty(self):\n",
    "        return len(self.tempo_atendimento) == 0\n",
    " \n",
    "    # for inserting an element in the queue\n",
    "    def insert(self, tempo_atendimento, priority):\n",
    "        self.tempo_atendimento.append(tempo_atendimento)\n",
    "        self.priority.append(priority)\n",
    "        self.waiting_time.append(0)\n",
    " \n",
    "    # for popping an element based on Priority\n",
    "    def process(self):\n",
    "        try:\n",
    "            max_val = 0\n",
    "#             for i in range(len(self.tempo_atendimento)-1):\n",
    "#                 if self.priority[i] < self.priority[max_val]:\n",
    "#                     max_val = i\n",
    "            tempo = self.tempo_atendimento[max_val]\n",
    "            \n",
    "            self.saida.append([self.tempo_atendimento[max_val],self.priority[max_val],self.waiting_time[max_val]])\n",
    "            \n",
    "            del self.tempo_atendimento[max_val]\n",
    "            del self.priority[max_val]\n",
    "            del self.waiting_time[max_val]\n",
    "            \n",
    "            j=0\n",
    "            for i in self.waiting_time:\n",
    "                self.waiting_time[j] = i+tempo\n",
    "                j+=1\n",
    "            \n",
    "            return self.waiting_time\n",
    "        except IndexError:\n",
    "            print()\n",
    "            exit()"
   ]
  },
  {
   "cell_type": "code",
   "execution_count": 11,
   "id": "ade95466",
   "metadata": {},
   "outputs": [
    {
     "name": "stdout",
     "output_type": "stream",
     "text": [
      "Wall time: 387 ms\n"
     ]
    }
   ],
   "source": [
    "%%time\n",
    "myQueue = PriorityQueue()\n",
    "\n",
    "#Adicionando primeiros 10 elementos do dataset à fila\n",
    "\n",
    "for idx, col in df.iloc[0:10].iterrows():\n",
    "    myQueue.insert(df.loc[idx,'tempo_atend'],df.loc[idx,'prio'],  )\n",
    "\n",
    "# Processando paciente a paciente e inserindo um paciente por vez\n",
    "for idx, col in df.iloc[10:].iterrows():\n",
    "    myQueue.process()\n",
    "    myQueue.insert(df.loc[idx,'tempo_atend'],df.loc[idx,'prio'])"
   ]
  },
  {
   "cell_type": "code",
   "execution_count": 12,
   "id": "41c2ad0d",
   "metadata": {},
   "outputs": [],
   "source": [
    "myQueue = PriorityQueue()\n",
    "\n",
    "#Adicionando primeiros 10 elementos do dataset à fila\n",
    "\n",
    "for idx, col in df.iloc[0:10].iterrows():\n",
    "    myQueue.insert(df.loc[idx,'tempo_atend'],df.loc[idx,'prio'],  )\n",
    "\n",
    "# Processando paciente a paciente e inserindo um paciente por vez\n",
    "for idx, col in df.iloc[10:].iterrows():\n",
    "    myQueue.process()\n",
    "    myQueue.insert(df.loc[idx,'tempo_atend'],df.loc[idx,'prio'])"
   ]
  },
  {
   "cell_type": "code",
   "execution_count": 13,
   "id": "6dcf8da3",
   "metadata": {},
   "outputs": [],
   "source": [
    "results = pd.DataFrame(myQueue.saida, columns=['T_atend,', 'prio', 'T_espe'])"
   ]
  },
  {
   "cell_type": "code",
   "execution_count": 14,
   "id": "df689f4b",
   "metadata": {},
   "outputs": [
    {
     "data": {
      "image/png": "[encoded data removed]",
      "text/plain": [
       "<Figure size 720x504 with 1 Axes>"
      ]
     },
     "metadata": {
      "needs_background": "light"
     },
     "output_type": "display_data"
    }
   ],
   "source": [
    "plt.figure(figsize=(10,7))\n",
    "results[results.prio==4].T_espe.hist(bins=30, alpha=1, color='blue', label ='P4')\n",
    "results[results.prio==3].T_espe.hist(bins=30, alpha=0.5, color='green', label ='P3')\n",
    "results[results.prio==2].T_espe.hist(bins=30, alpha=1, color='yellow', label ='P2')\n",
    "results[results.prio==1].T_espe.hist(bins=30, alpha=1, color='orange', label ='P1')\n",
    "results[results.prio==0].T_espe.hist(bins=30, alpha=1, color='red', label ='P0')\n",
    "plt.title('Cenário 1 - Distribuição de tempo de espera por nível de prioridade')\n",
    "plt.legend()\n",
    "plt.savefig('Grafico3')"
   ]
  },
  {
   "cell_type": "markdown",
   "id": "011b55bc",
   "metadata": {},
   "source": [
    "### Tempo médio de atendimento e espera por prioridade"
   ]
  },
  {
   "cell_type": "code",
   "execution_count": 15,
   "id": "a525c71f",
   "metadata": {
    "scrolled": true
   },
   "outputs": [
    {
     "data": {
      "text/html": [
       "<div>\n",
       "<style scoped>\n",
       "    .dataframe tbody tr th:only-of-type {\n",
       "        vertical-align: middle;\n",
       "    }\n",
       "\n",
       "    .dataframe tbody tr th {\n",
       "        vertical-align: top;\n",
       "    }\n",
       "\n",
       "    .dataframe thead tr th {\n",
       "        text-align: left;\n",
       "    }\n",
       "\n",
       "    .dataframe thead tr:last-of-type th {\n",
       "        text-align: right;\n",
       "    }\n",
       "</style>\n",
       "<table border=\"1\" class=\"dataframe\">\n",
       "  <thead>\n",
       "    <tr>\n",
       "      <th></th>\n",
       "      <th>mean</th>\n",
       "      <th>std</th>\n",
       "    </tr>\n",
       "    <tr>\n",
       "      <th></th>\n",
       "      <th>T_espe</th>\n",
       "      <th>T_espe</th>\n",
       "    </tr>\n",
       "    <tr>\n",
       "      <th>prio</th>\n",
       "      <th></th>\n",
       "      <th></th>\n",
       "    </tr>\n",
       "  </thead>\n",
       "  <tbody>\n",
       "    <tr>\n",
       "      <th>0.0</th>\n",
       "      <td>74.554173</td>\n",
       "      <td>12.889852</td>\n",
       "    </tr>\n",
       "    <tr>\n",
       "      <th>1.0</th>\n",
       "      <td>74.616877</td>\n",
       "      <td>13.515663</td>\n",
       "    </tr>\n",
       "    <tr>\n",
       "      <th>2.0</th>\n",
       "      <td>74.025243</td>\n",
       "      <td>12.847311</td>\n",
       "    </tr>\n",
       "    <tr>\n",
       "      <th>3.0</th>\n",
       "      <td>73.972872</td>\n",
       "      <td>12.486777</td>\n",
       "    </tr>\n",
       "    <tr>\n",
       "      <th>4.0</th>\n",
       "      <td>73.794959</td>\n",
       "      <td>12.198444</td>\n",
       "    </tr>\n",
       "  </tbody>\n",
       "</table>\n",
       "</div>"
      ],
      "text/plain": [
       "           mean        std\n",
       "         T_espe     T_espe\n",
       "prio                      \n",
       "0.0   74.554173  12.889852\n",
       "1.0   74.616877  13.515663\n",
       "2.0   74.025243  12.847311\n",
       "3.0   73.972872  12.486777\n",
       "4.0   73.794959  12.198444"
      ]
     },
     "execution_count": 15,
     "metadata": {},
     "output_type": "execute_result"
    }
   ],
   "source": [
    "pd.pivot_table(results,\n",
    "              index='prio',\n",
    "               values='T_espe',\n",
    "              aggfunc=['mean', 'std']\n",
    "              )"
   ]
  },
  {
   "cell_type": "code",
   "execution_count": 16,
   "id": "ead7346b",
   "metadata": {},
   "outputs": [
    {
     "data": {
      "text/plain": [
       "(74.0208835894851, 73.15488036275794)"
      ]
     },
     "execution_count": 16,
     "metadata": {},
     "output_type": "execute_result"
    }
   ],
   "source": [
    "results.T_espe.mean(), results.T_espe.median()"
   ]
  },
  {
   "cell_type": "markdown",
   "id": "3b92e543",
   "metadata": {},
   "source": [
    "# Implementação com prioridade simples"
   ]
  },
  {
   "cell_type": "code",
   "execution_count": 17,
   "id": "4dc5b949",
   "metadata": {},
   "outputs": [],
   "source": [
    "# A simple implementation of Priority Queue\n",
    "# using Queue.\n",
    "class PriorityQueue(object):\n",
    "    def __init__(self):\n",
    "        self.tempo_atendimento = []\n",
    "        self.priority = []\n",
    "        self.waiting_time = []\n",
    "        self.saida = []\n",
    " \n",
    "    def __str__(self):\n",
    "        return ' '.join([str(i) for i in self.tempo_atendimento])\n",
    " \n",
    "    # for checking if the queue is empty\n",
    "    def isEmpty(self):\n",
    "        return len(self.tempo_atendimento) == 0\n",
    " \n",
    "    # for inserting an element in the queue\n",
    "    def insert(self, tempo_atendimento, priority):\n",
    "        self.tempo_atendimento.append(tempo_atendimento)\n",
    "        self.priority.append(priority)\n",
    "        self.waiting_time.append(0)\n",
    " \n",
    "    # for popping an element based on Priority\n",
    "    def process(self):\n",
    "        try:\n",
    "            max_val = 0\n",
    "            for i in range(len(self.tempo_atendimento)-1):\n",
    "                if self.priority[i] < self.priority[max_val]:\n",
    "                    max_val = i\n",
    "            tempo = self.tempo_atendimento[max_val]\n",
    "            \n",
    "            self.saida.append([self.tempo_atendimento[max_val],self.priority[max_val],self.waiting_time[max_val]])\n",
    "            \n",
    "            del self.tempo_atendimento[max_val]\n",
    "            del self.priority[max_val]\n",
    "            del self.waiting_time[max_val]\n",
    "            \n",
    "            j=0\n",
    "            for i in self.waiting_time:\n",
    "                self.waiting_time[j] = i+tempo\n",
    "                j+=1\n",
    "            \n",
    "            return self.waiting_time\n",
    "        except IndexError:\n",
    "            print()\n",
    "            exit()"
   ]
  },
  {
   "cell_type": "markdown",
   "id": "89fafe25",
   "metadata": {},
   "source": [
    "## Iterando datast"
   ]
  },
  {
   "cell_type": "code",
   "execution_count": 18,
   "id": "fe9d079c",
   "metadata": {},
   "outputs": [
    {
     "name": "stdout",
     "output_type": "stream",
     "text": [
      "Wall time: 312 ms\n"
     ]
    }
   ],
   "source": [
    "%%time\n",
    "myQueue = PriorityQueue()\n",
    "\n",
    "#Adicionando primeiros 10 elementos do dataset à fila\n",
    "\n",
    "for idx, col in df.iloc[0:10].iterrows():\n",
    "    myQueue.insert(df.loc[idx,'tempo_atend'],df.loc[idx,'prio'],  )\n",
    "\n",
    "# Processando paciente a paciente e inserindo um paciente por vez\n",
    "for idx, col in df.iloc[10:].iterrows():\n",
    "    myQueue.process()\n",
    "    myQueue.insert(df.loc[idx,'tempo_atend'],df.loc[idx,'prio'])\n"
   ]
  },
  {
   "cell_type": "code",
   "execution_count": 19,
   "id": "72fb7640",
   "metadata": {},
   "outputs": [],
   "source": [
    "myQueue = PriorityQueue()\n",
    "\n",
    "#Adicionando primeiros 10 elementos do dataset à fila\n",
    "\n",
    "for idx, col in df.iloc[0:10].iterrows():\n",
    "    myQueue.insert(df.loc[idx,'tempo_atend'],df.loc[idx,'prio'],  )\n",
    "\n",
    "# Processando paciente a paciente e inserindo um paciente por vez\n",
    "for idx, col in df.iloc[10:].iterrows():\n",
    "    myQueue.process()\n",
    "    myQueue.insert(df.loc[idx,'tempo_atend'],df.loc[idx,'prio'])\n"
   ]
  },
  {
   "cell_type": "code",
   "execution_count": 20,
   "id": "3fb29dc6",
   "metadata": {},
   "outputs": [],
   "source": [
    "results = pd.DataFrame(myQueue.saida, columns=['T_atend,', 'prio', 'T_espe'])"
   ]
  },
  {
   "cell_type": "code",
   "execution_count": 21,
   "id": "ed6be4a6",
   "metadata": {},
   "outputs": [
    {
     "data": {
      "image/png": "[encoded data removed]",
      "text/plain": [
       "<Figure size 720x504 with 1 Axes>"
      ]
     },
     "metadata": {
      "needs_background": "light"
     },
     "output_type": "display_data"
    }
   ],
   "source": [
    "plt.figure(figsize=(10,7))\n",
    "results[results.prio==4].T_espe.hist(bins=30, alpha=1, color='blue', label ='P4')\n",
    "results[results.prio==3].T_espe.hist(bins=30, alpha=0.5, color='green', label ='P3')\n",
    "results[results.prio==2].T_espe.hist(bins=30, alpha=1, color='yellow', label ='P2')\n",
    "results[results.prio==1].T_espe.hist(bins=30, alpha=1, color='orange', label ='P1')\n",
    "results[results.prio==0].T_espe.hist(bins=30, alpha=1, color='red', label ='P0')\n",
    "plt.title('Cenário 2 - Distribuição de tempo de espera por nível de prioridade')\n",
    "plt.legend()\n",
    "plt.savefig('Grafico4')"
   ]
  },
  {
   "cell_type": "code",
   "execution_count": 22,
   "id": "b31b5071",
   "metadata": {},
   "outputs": [
    {
     "data": {
      "text/plain": [
       "<matplotlib.legend.Legend at 0x1a1c8a7b9d0>"
      ]
     },
     "execution_count": 22,
     "metadata": {},
     "output_type": "execute_result"
    },
    {
     "data": {
      "image/png": "[encoded data removed]",
      "text/plain": [
       "<Figure size 720x504 with 1 Axes>"
      ]
     },
     "metadata": {
      "needs_background": "light"
     },
     "output_type": "display_data"
    }
   ],
   "source": [
    "plt.figure(figsize=(10,7))\n",
    "results[results.prio==3].T_espe.hist(bins=30, alpha=0.5, color='green', label ='P3')\n",
    "results[results.prio==2].T_espe.hist(bins=30, alpha=1, color='yellow', label ='P2')\n",
    "results[results.prio==1].T_espe.hist(bins=30, alpha=1, color='orange', label ='P1')\n",
    "results[results.prio==0].T_espe.hist(bins=30, alpha=1, color='red', label ='P0')\n",
    "plt.title('Cenário 2 - Distribuição de tempo de espera por nível de prioridade')\n",
    "plt.legend()"
   ]
  },
  {
   "cell_type": "code",
   "execution_count": 23,
   "id": "a496c0f4",
   "metadata": {},
   "outputs": [
    {
     "data": {
      "text/html": [
       "<div>\n",
       "<style scoped>\n",
       "    .dataframe tbody tr th:only-of-type {\n",
       "        vertical-align: middle;\n",
       "    }\n",
       "\n",
       "    .dataframe tbody tr th {\n",
       "        vertical-align: top;\n",
       "    }\n",
       "\n",
       "    .dataframe thead th {\n",
       "        text-align: right;\n",
       "    }\n",
       "</style>\n",
       "<table border=\"1\" class=\"dataframe\">\n",
       "  <thead>\n",
       "    <tr style=\"text-align: right;\">\n",
       "      <th></th>\n",
       "      <th>T_atend,</th>\n",
       "      <th>prio</th>\n",
       "      <th>T_espe</th>\n",
       "    </tr>\n",
       "  </thead>\n",
       "  <tbody>\n",
       "    <tr>\n",
       "      <th>count</th>\n",
       "      <td>3499.000000</td>\n",
       "      <td>3499.000000</td>\n",
       "      <td>3499.000000</td>\n",
       "    </tr>\n",
       "    <tr>\n",
       "      <th>mean</th>\n",
       "      <td>8.246764</td>\n",
       "      <td>2.286082</td>\n",
       "      <td>8.388153</td>\n",
       "    </tr>\n",
       "    <tr>\n",
       "      <th>std</th>\n",
       "      <td>4.283889</td>\n",
       "      <td>0.958342</td>\n",
       "      <td>5.332539</td>\n",
       "    </tr>\n",
       "    <tr>\n",
       "      <th>min</th>\n",
       "      <td>1.368652</td>\n",
       "      <td>0.000000</td>\n",
       "      <td>0.000000</td>\n",
       "    </tr>\n",
       "    <tr>\n",
       "      <th>50%</th>\n",
       "      <td>7.314720</td>\n",
       "      <td>3.000000</td>\n",
       "      <td>7.296004</td>\n",
       "    </tr>\n",
       "    <tr>\n",
       "      <th>99%</th>\n",
       "      <td>22.804485</td>\n",
       "      <td>3.000000</td>\n",
       "      <td>24.364559</td>\n",
       "    </tr>\n",
       "    <tr>\n",
       "      <th>max</th>\n",
       "      <td>44.906401</td>\n",
       "      <td>3.000000</td>\n",
       "      <td>86.668677</td>\n",
       "    </tr>\n",
       "  </tbody>\n",
       "</table>\n",
       "</div>"
      ],
      "text/plain": [
       "          T_atend,         prio       T_espe\n",
       "count  3499.000000  3499.000000  3499.000000\n",
       "mean      8.246764     2.286082     8.388153\n",
       "std       4.283889     0.958342     5.332539\n",
       "min       1.368652     0.000000     0.000000\n",
       "50%       7.314720     3.000000     7.296004\n",
       "99%      22.804485     3.000000    24.364559\n",
       "max      44.906401     3.000000    86.668677"
      ]
     },
     "execution_count": 23,
     "metadata": {},
     "output_type": "execute_result"
    }
   ],
   "source": [
    "results[results.prio!=4].describe([0.99])"
   ]
  },
  {
   "cell_type": "markdown",
   "id": "09c2529c",
   "metadata": {},
   "source": [
    "Aqui podemos enxergar que prioridade baixa está com um tempo médio muito alto, enquanto a prioridade 1 está praticamente com o mesmo tempo da prioridade 0. Precisamos pensar em algo que equilibre mais isso"
   ]
  },
  {
   "cell_type": "markdown",
   "id": "d436e5f7",
   "metadata": {},
   "source": [
    "### Tempo médio de atendimento e espera por prioridade"
   ]
  },
  {
   "cell_type": "code",
   "execution_count": 24,
   "id": "1c98ed60",
   "metadata": {
    "scrolled": true
   },
   "outputs": [
    {
     "data": {
      "text/html": [
       "<div>\n",
       "<style scoped>\n",
       "    .dataframe tbody tr th:only-of-type {\n",
       "        vertical-align: middle;\n",
       "    }\n",
       "\n",
       "    .dataframe tbody tr th {\n",
       "        vertical-align: top;\n",
       "    }\n",
       "\n",
       "    .dataframe thead tr th {\n",
       "        text-align: left;\n",
       "    }\n",
       "\n",
       "    .dataframe thead tr:last-of-type th {\n",
       "        text-align: right;\n",
       "    }\n",
       "</style>\n",
       "<table border=\"1\" class=\"dataframe\">\n",
       "  <thead>\n",
       "    <tr>\n",
       "      <th></th>\n",
       "      <th>mean</th>\n",
       "      <th>std</th>\n",
       "    </tr>\n",
       "    <tr>\n",
       "      <th></th>\n",
       "      <th>T_espe</th>\n",
       "      <th>T_espe</th>\n",
       "    </tr>\n",
       "    <tr>\n",
       "      <th>prio</th>\n",
       "      <th></th>\n",
       "      <th></th>\n",
       "    </tr>\n",
       "  </thead>\n",
       "  <tbody>\n",
       "    <tr>\n",
       "      <th>0.0</th>\n",
       "      <td>8.410147</td>\n",
       "      <td>4.040414</td>\n",
       "    </tr>\n",
       "    <tr>\n",
       "      <th>1.0</th>\n",
       "      <td>8.266222</td>\n",
       "      <td>4.360106</td>\n",
       "    </tr>\n",
       "    <tr>\n",
       "      <th>2.0</th>\n",
       "      <td>8.323513</td>\n",
       "      <td>4.564579</td>\n",
       "    </tr>\n",
       "    <tr>\n",
       "      <th>3.0</th>\n",
       "      <td>8.440065</td>\n",
       "      <td>5.930864</td>\n",
       "    </tr>\n",
       "    <tr>\n",
       "      <th>4.0</th>\n",
       "      <td>227.873672</td>\n",
       "      <td>64.813668</td>\n",
       "    </tr>\n",
       "  </tbody>\n",
       "</table>\n",
       "</div>"
      ],
      "text/plain": [
       "            mean        std\n",
       "          T_espe     T_espe\n",
       "prio                       \n",
       "0.0     8.410147   4.040414\n",
       "1.0     8.266222   4.360106\n",
       "2.0     8.323513   4.564579\n",
       "3.0     8.440065   5.930864\n",
       "4.0   227.873672  64.813668"
      ]
     },
     "execution_count": 24,
     "metadata": {},
     "output_type": "execute_result"
    }
   ],
   "source": [
    "pd.pivot_table(results,\n",
    "              index='prio',\n",
    "               values='T_espe',\n",
    "              aggfunc=['mean', 'std']\n",
    "              )"
   ]
  },
  {
   "cell_type": "code",
   "execution_count": 25,
   "id": "fa3da19e",
   "metadata": {},
   "outputs": [
    {
     "data": {
      "text/plain": [
       "(73.96989784240375, 9.609011296373813)"
      ]
     },
     "execution_count": 25,
     "metadata": {},
     "output_type": "execute_result"
    }
   ],
   "source": [
    "results.T_espe.mean(), results.T_espe.median()"
   ]
  },
  {
   "cell_type": "markdown",
   "id": "944e1ff9",
   "metadata": {},
   "source": [
    "# Implementação com prioridade justa"
   ]
  },
  {
   "cell_type": "code",
   "execution_count": 26,
   "id": "ac538dcd",
   "metadata": {},
   "outputs": [],
   "source": [
    "# A simple implementation of Priority Queue\n",
    "# using Queue.\n",
    "class PriorityQueue(object):\n",
    "    def __init__(self, justica):\n",
    "        '''\n",
    "        justica: define o grau de justiça que o algoritmo irá trabalhar na fila de prioridade. \n",
    "        Quanto menor o número, incluindo negativos, mais justo tenderá a ser.\n",
    "        \n",
    "        '''\n",
    "        self.tempo_atendimento = np.array([])\n",
    "        self.priority = np.array([])\n",
    "        self.waiting_time = np.array([])\n",
    "        self.saida = []\n",
    "        self.justica = justica\n",
    " \n",
    "    def __str__(self):\n",
    "        return ' '.join([str(i) for i in self.tempo_atendimento])\n",
    " \n",
    "    # for checking if the queue is empty\n",
    "    def isEmpty(self):\n",
    "        return len(self.tempo_atendimento) == 0\n",
    " \n",
    "    # for inserting an element in the queue\n",
    "    def insert(self, tempo_atendimento, priority):\n",
    "        self.tempo_atendimento = np.append(self.tempo_atendimento,tempo_atendimento)\n",
    "        self.priority = np.append(self.priority,priority)\n",
    "        self.waiting_time = np.append(self.waiting_time,0)\n",
    " \n",
    "   \n",
    "    # for popping an element based on Priority\n",
    "    def process(self):\n",
    "        #try:\n",
    "\n",
    "        # Calcular os tempos de espera médios para cada prioridade  \n",
    "        unique_priorities = np.unique(self.priority)  \n",
    "        mean_waiting_times = np.array([self.waiting_time[self.priority == p].mean() for p in unique_priorities])  \n",
    "\n",
    "\n",
    "        #df = pd.DataFrame([self.priority, self.waiting_time]).T.rename(columns={0:'prio', 1:'waiting'})\n",
    "        max_val = 0\n",
    "        for i in range(len(self.tempo_atendimento)-1):\n",
    "            if self.priority[i] == 0:\n",
    "                max_val = i\n",
    "            elif self.priority[i] < self.priority[max_val]:\n",
    "                # Obter os índices das prioridades para calcular a relação  \n",
    "                index_0 = np.where(unique_priorities == self.priority[max_val])[0][0] \n",
    "                index_1 = np.where(unique_priorities == self.priority[i])[0][0] \n",
    "                # Calcular a relação  \n",
    "                relacao = (mean_waiting_times[index_0] / mean_waiting_times[index_1]) -1\n",
    "                if relacao<=self.justica:\n",
    "                    max_val = i\n",
    "                else:\n",
    "                    break\n",
    "\n",
    "        tempo = self.tempo_atendimento[max_val]\n",
    "        self.saida.append([self.tempo_atendimento[max_val],\n",
    "                                       self.priority[max_val],\n",
    "                                       self.waiting_time[max_val]])\n",
    "\n",
    "        self.tempo_atendimento = np.delete(self.tempo_atendimento, max_val)\n",
    "        self.priority = np.delete(self.priority, max_val)\n",
    "        self.waiting_time = np.delete(self.waiting_time, max_val)\n",
    "\n",
    "        j=0\n",
    "        for i in self.waiting_time:\n",
    "            self.waiting_time[j] = i+tempo\n",
    "            j+=1\n",
    "\n",
    "        return self.waiting_time\n",
    "#         except IndexError:\n",
    "#             print()\n",
    "#             exit()"
   ]
  },
  {
   "cell_type": "markdown",
   "id": "5b95e3ed",
   "metadata": {},
   "source": [
    "## Justiça em 0.5"
   ]
  },
  {
   "cell_type": "code",
   "execution_count": 27,
   "id": "a3f659c5",
   "metadata": {},
   "outputs": [
    {
     "name": "stdout",
     "output_type": "stream",
     "text": [
      "Wall time: 1.01 s\n"
     ]
    }
   ],
   "source": [
    "%%time\n",
    "myQueue = PriorityQueue(0.5)\n",
    "\n",
    "#Adicionando primeiros 10 elementos do dataset à fila\n",
    "\n",
    "for idx, col in df.iloc[0:10].iterrows():\n",
    "    myQueue.insert(df.loc[idx,'tempo_atend'],df.loc[idx,'prio'],  )\n",
    "\n",
    "# Processando paciente a paciente e inserindo um paciente por vez\n",
    "for idx, col in df.iloc[10:].iterrows():\n",
    "    myQueue.process()\n",
    "    myQueue.insert(df.loc[idx,'tempo_atend'],df.loc[idx,'prio'])"
   ]
  },
  {
   "cell_type": "code",
   "execution_count": 28,
   "id": "76666963",
   "metadata": {},
   "outputs": [],
   "source": [
    "myQueue = PriorityQueue(0.5)\n",
    "\n",
    "#Adicionando primeiros 10 elementos do dataset à fila\n",
    "\n",
    "for idx, col in df.iloc[0:10].iterrows():\n",
    "    myQueue.insert(df.loc[idx,'tempo_atend'],df.loc[idx,'prio'],  )\n",
    "\n",
    "# Processando paciente a paciente e inserindo um paciente por vez\n",
    "for idx, col in df.iloc[10:].iterrows():\n",
    "    myQueue.process()\n",
    "    myQueue.insert(df.loc[idx,'tempo_atend'],df.loc[idx,'prio'])"
   ]
  },
  {
   "cell_type": "code",
   "execution_count": 29,
   "id": "96f94ea4",
   "metadata": {},
   "outputs": [
    {
     "data": {
      "text/plain": [
       "4990"
      ]
     },
     "execution_count": 29,
     "metadata": {},
     "output_type": "execute_result"
    }
   ],
   "source": [
    "len(myQueue.saida)"
   ]
  },
  {
   "cell_type": "code",
   "execution_count": 30,
   "id": "a83b6b1f",
   "metadata": {},
   "outputs": [],
   "source": [
    "results = pd.DataFrame(myQueue.saida, columns=['T_atend,', 'prio', 'T_espe'])"
   ]
  },
  {
   "cell_type": "code",
   "execution_count": 31,
   "id": "944fafda",
   "metadata": {},
   "outputs": [
    {
     "data": {
      "image/png": "[encoded data removed]",
      "text/plain": [
       "<Figure size 720x504 with 1 Axes>"
      ]
     },
     "metadata": {
      "needs_background": "light"
     },
     "output_type": "display_data"
    }
   ],
   "source": [
    "plt.figure(figsize=(10,7))\n",
    "results[results.prio==4].T_espe.hist(bins=30, alpha=0.5, color='blue', label ='P4')\n",
    "results[results.prio==3].T_espe.hist(bins=30, alpha=0.5, color='green', label ='P3')\n",
    "results[results.prio==2].T_espe.hist(bins=30, alpha=1, color='yellow', label ='P2')\n",
    "results[results.prio==1].T_espe.hist(bins=30, alpha=.8, color='orange', label ='P1')\n",
    "results[results.prio==0].T_espe.hist(bins=30, alpha=1, color='red', label ='P0')\n",
    "plt.title('Cenário 3 - Distribuição de tempo de espera por nível de prioridade - Fator de justiça em 0.5')\n",
    "plt.legend()\n",
    "plt.savefig('Grafico5')"
   ]
  },
  {
   "cell_type": "markdown",
   "id": "8a9f6327",
   "metadata": {},
   "source": [
    "Aqui podemos enxergar que prioridade baixa está com um tempo médio muito alto, enquanto a prioridade 1 está praticamente com o mesmo tempo da prioridade 0. Precisamos pensar em algo que equilibre mais isso"
   ]
  },
  {
   "cell_type": "markdown",
   "id": "9b057bda",
   "metadata": {},
   "source": [
    "### Tempo médio de atendimento e espera por prioridade"
   ]
  },
  {
   "cell_type": "code",
   "execution_count": 32,
   "id": "cb1e28ea",
   "metadata": {
    "scrolled": true
   },
   "outputs": [
    {
     "data": {
      "text/html": [
       "<div>\n",
       "<style scoped>\n",
       "    .dataframe tbody tr th:only-of-type {\n",
       "        vertical-align: middle;\n",
       "    }\n",
       "\n",
       "    .dataframe tbody tr th {\n",
       "        vertical-align: top;\n",
       "    }\n",
       "\n",
       "    .dataframe thead tr th {\n",
       "        text-align: left;\n",
       "    }\n",
       "\n",
       "    .dataframe thead tr:last-of-type th {\n",
       "        text-align: right;\n",
       "    }\n",
       "</style>\n",
       "<table border=\"1\" class=\"dataframe\">\n",
       "  <thead>\n",
       "    <tr>\n",
       "      <th></th>\n",
       "      <th>mean</th>\n",
       "      <th>std</th>\n",
       "    </tr>\n",
       "    <tr>\n",
       "      <th></th>\n",
       "      <th>T_espe</th>\n",
       "      <th>T_espe</th>\n",
       "    </tr>\n",
       "    <tr>\n",
       "      <th>prio</th>\n",
       "      <th></th>\n",
       "      <th></th>\n",
       "    </tr>\n",
       "  </thead>\n",
       "  <tbody>\n",
       "    <tr>\n",
       "      <th>0.0</th>\n",
       "      <td>18.804002</td>\n",
       "      <td>14.578899</td>\n",
       "    </tr>\n",
       "    <tr>\n",
       "      <th>1.0</th>\n",
       "      <td>46.926726</td>\n",
       "      <td>16.243446</td>\n",
       "    </tr>\n",
       "    <tr>\n",
       "      <th>2.0</th>\n",
       "      <td>51.835330</td>\n",
       "      <td>18.036345</td>\n",
       "    </tr>\n",
       "    <tr>\n",
       "      <th>3.0</th>\n",
       "      <td>77.637801</td>\n",
       "      <td>20.494774</td>\n",
       "    </tr>\n",
       "    <tr>\n",
       "      <th>4.0</th>\n",
       "      <td>98.600877</td>\n",
       "      <td>23.851410</td>\n",
       "    </tr>\n",
       "  </tbody>\n",
       "</table>\n",
       "</div>"
      ],
      "text/plain": [
       "           mean        std\n",
       "         T_espe     T_espe\n",
       "prio                      \n",
       "0.0   18.804002  14.578899\n",
       "1.0   46.926726  16.243446\n",
       "2.0   51.835330  18.036345\n",
       "3.0   77.637801  20.494774\n",
       "4.0   98.600877  23.851410"
      ]
     },
     "execution_count": 32,
     "metadata": {},
     "output_type": "execute_result"
    }
   ],
   "source": [
    "pd.pivot_table(results,\n",
    "              index='prio',\n",
    "               values='T_espe',\n",
    "              aggfunc=['mean', 'std']\n",
    "              )"
   ]
  },
  {
   "cell_type": "code",
   "execution_count": 33,
   "id": "60a1d19a",
   "metadata": {},
   "outputs": [
    {
     "name": "stdout",
     "output_type": "stream",
     "text": [
      "100.00%\n",
      "78.69%\n",
      "-15.75%\n",
      "-54.56%\n",
      "-143.41%\n"
     ]
    }
   ],
   "source": [
    "for i in ([0.0001, 10, 60, 120, 240]/(pd.pivot_table(results,\n",
    "              index='prio',\n",
    "               values='T_espe',\n",
    "              aggfunc=['mean', 'std']\n",
    "              ).values[:,0])-1)*100:\n",
    "    print(f'{-i:.2f}%')"
   ]
  },
  {
   "cell_type": "markdown",
   "id": "026965fc",
   "metadata": {},
   "source": [
    "## Justiça em 1"
   ]
  },
  {
   "cell_type": "code",
   "execution_count": 35,
   "id": "f91a4a2f",
   "metadata": {},
   "outputs": [
    {
     "name": "stdout",
     "output_type": "stream",
     "text": [
      "Wall time: 974 ms\n"
     ]
    }
   ],
   "source": [
    "%%time\n",
    "myQueue = PriorityQueue(1)\n",
    "\n",
    "#Adicionando primeiros 10 elementos do dataset à fila\n",
    "\n",
    "for idx, col in df.iloc[0:10].iterrows():\n",
    "    myQueue.insert(df.loc[idx,'tempo_atend'],df.loc[idx,'prio'],  )\n",
    "\n",
    "# Processando paciente a paciente e inserindo um paciente por vez\n",
    "for idx, col in df.iloc[10:].iterrows():\n",
    "    myQueue.process()\n",
    "    myQueue.insert(df.loc[idx,'tempo_atend'],df.loc[idx,'prio'])"
   ]
  },
  {
   "cell_type": "code",
   "execution_count": 36,
   "id": "27366cb3",
   "metadata": {},
   "outputs": [],
   "source": [
    "myQueue = PriorityQueue(1)\n",
    "\n",
    "#Adicionando primeiros 10 elementos do dataset à fila\n",
    "\n",
    "for idx, col in df.iloc[0:10].iterrows():\n",
    "    myQueue.insert(df.loc[idx,'tempo_atend'],df.loc[idx,'prio'],  )\n",
    "\n",
    "# Processando paciente a paciente e inserindo um paciente por vez\n",
    "for idx, col in df.iloc[10:].iterrows():\n",
    "    myQueue.process()\n",
    "    myQueue.insert(df.loc[idx,'tempo_atend'],df.loc[idx,'prio'])"
   ]
  },
  {
   "cell_type": "code",
   "execution_count": 37,
   "id": "6e958b59",
   "metadata": {},
   "outputs": [
    {
     "data": {
      "text/plain": [
       "4990"
      ]
     },
     "execution_count": 37,
     "metadata": {},
     "output_type": "execute_result"
    }
   ],
   "source": [
    "len(myQueue.saida)"
   ]
  },
  {
   "cell_type": "code",
   "execution_count": 38,
   "id": "4853552f",
   "metadata": {},
   "outputs": [],
   "source": [
    "results = pd.DataFrame(myQueue.saida, columns=['T_atend,', 'prio', 'T_espe'])"
   ]
  },
  {
   "cell_type": "code",
   "execution_count": 39,
   "id": "fd0cfe18",
   "metadata": {},
   "outputs": [
    {
     "data": {
      "image/png": "[encoded data removed]",
      "text/plain": [
       "<Figure size 720x504 with 1 Axes>"
      ]
     },
     "metadata": {
      "needs_background": "light"
     },
     "output_type": "display_data"
    }
   ],
   "source": [
    "plt.figure(figsize=(10,7))\n",
    "results[results.prio==4].T_espe.hist(bins=30, alpha=0.5, color='blue', label ='P4')\n",
    "results[results.prio==3].T_espe.hist(bins=30, alpha=0.5, color='green', label ='P3')\n",
    "results[results.prio==2].T_espe.hist(bins=30, alpha=1, color='yellow', label ='P2')\n",
    "results[results.prio==1].T_espe.hist(bins=30, alpha=.8, color='orange', label ='P1')\n",
    "results[results.prio==0].T_espe.hist(bins=30, alpha=1, color='red', label ='P0')\n",
    "plt.title('Cenário 3 - Distribuição de tempo de espera por nível de prioridade - Fator de justiça em 1.0')\n",
    "plt.legend()\n",
    "plt.savefig('Grafico6')"
   ]
  },
  {
   "cell_type": "markdown",
   "id": "608e6dfa",
   "metadata": {},
   "source": [
    "### Tempo médio de atendimento e espera por prioridade"
   ]
  },
  {
   "cell_type": "code",
   "execution_count": 40,
   "id": "b9ca9ced",
   "metadata": {
    "scrolled": true
   },
   "outputs": [
    {
     "data": {
      "text/html": [
       "<div>\n",
       "<style scoped>\n",
       "    .dataframe tbody tr th:only-of-type {\n",
       "        vertical-align: middle;\n",
       "    }\n",
       "\n",
       "    .dataframe tbody tr th {\n",
       "        vertical-align: top;\n",
       "    }\n",
       "\n",
       "    .dataframe thead tr th {\n",
       "        text-align: left;\n",
       "    }\n",
       "\n",
       "    .dataframe thead tr:last-of-type th {\n",
       "        text-align: right;\n",
       "    }\n",
       "</style>\n",
       "<table border=\"1\" class=\"dataframe\">\n",
       "  <thead>\n",
       "    <tr>\n",
       "      <th></th>\n",
       "      <th>mean</th>\n",
       "      <th>std</th>\n",
       "    </tr>\n",
       "    <tr>\n",
       "      <th></th>\n",
       "      <th>T_espe</th>\n",
       "      <th>T_espe</th>\n",
       "    </tr>\n",
       "    <tr>\n",
       "      <th>prio</th>\n",
       "      <th></th>\n",
       "      <th></th>\n",
       "    </tr>\n",
       "  </thead>\n",
       "  <tbody>\n",
       "    <tr>\n",
       "      <th>0.0</th>\n",
       "      <td>15.987513</td>\n",
       "      <td>11.476213</td>\n",
       "    </tr>\n",
       "    <tr>\n",
       "      <th>1.0</th>\n",
       "      <td>36.681286</td>\n",
       "      <td>14.287527</td>\n",
       "    </tr>\n",
       "    <tr>\n",
       "      <th>2.0</th>\n",
       "      <td>42.746668</td>\n",
       "      <td>17.425985</td>\n",
       "    </tr>\n",
       "    <tr>\n",
       "      <th>3.0</th>\n",
       "      <td>72.839422</td>\n",
       "      <td>21.373741</td>\n",
       "    </tr>\n",
       "    <tr>\n",
       "      <th>4.0</th>\n",
       "      <td>113.446766</td>\n",
       "      <td>29.377018</td>\n",
       "    </tr>\n",
       "  </tbody>\n",
       "</table>\n",
       "</div>"
      ],
      "text/plain": [
       "            mean        std\n",
       "          T_espe     T_espe\n",
       "prio                       \n",
       "0.0    15.987513  11.476213\n",
       "1.0    36.681286  14.287527\n",
       "2.0    42.746668  17.425985\n",
       "3.0    72.839422  21.373741\n",
       "4.0   113.446766  29.377018"
      ]
     },
     "execution_count": 40,
     "metadata": {},
     "output_type": "execute_result"
    }
   ],
   "source": [
    "pd.pivot_table(results,\n",
    "              index='prio',\n",
    "               values='T_espe',\n",
    "              aggfunc=['mean', 'std']\n",
    "              )"
   ]
  },
  {
   "cell_type": "markdown",
   "id": "8e41546f",
   "metadata": {},
   "source": [
    "### Alteranando o valor do fator de justica para ver um gráfico "
   ]
  },
  {
   "cell_type": "code",
   "execution_count": 36,
   "id": "425836ec",
   "metadata": {},
   "outputs": [],
   "source": [
    "consolidado = {}\n",
    "for fator in range(-20,20):\n",
    "    fator/=10\n",
    "    \n",
    "    myQueue = PriorityQueue(fator)\n",
    "    #Adicionando primeiros 10 elementos do dataset à fila\n",
    "    for idx, col in df.iloc[0:10].iterrows():\n",
    "        myQueue.insert(df.loc[idx,'tempo_atend'],df.loc[idx,'prio'],  )\n",
    "\n",
    "    # Processando paciente a paciente e inserindo um paciente por vez\n",
    "    for idx, col in df.iloc[10:].iterrows():\n",
    "        myQueue.process()\n",
    "        myQueue.insert(df.loc[idx,'tempo_atend'],df.loc[idx,'prio'])\n",
    "        \n",
    "    results = pd.DataFrame(myQueue.saida, columns=['T_atend,', 'prio', 'T_espe'])\n",
    "    \n",
    "    consolidado[fator] = pd.pivot_table(results,\n",
    "              index='prio',\n",
    "               values='T_espe',\n",
    "              aggfunc=['mean', 'std']\n",
    "              ).values[:,0]"
   ]
  },
  {
   "cell_type": "code",
   "execution_count": 37,
   "id": "68301450",
   "metadata": {},
   "outputs": [],
   "source": [
    "df_final = pd.DataFrame(consolidado).T.iloc[10:]"
   ]
  },
  {
   "cell_type": "code",
   "execution_count": 38,
   "id": "c83a4c63",
   "metadata": {},
   "outputs": [
    {
     "data": {
      "text/html": [
       "<div>\n",
       "<style scoped>\n",
       "    .dataframe tbody tr th:only-of-type {\n",
       "        vertical-align: middle;\n",
       "    }\n",
       "\n",
       "    .dataframe tbody tr th {\n",
       "        vertical-align: top;\n",
       "    }\n",
       "\n",
       "    .dataframe thead th {\n",
       "        text-align: right;\n",
       "    }\n",
       "</style>\n",
       "<table border=\"1\" class=\"dataframe\">\n",
       "  <thead>\n",
       "    <tr style=\"text-align: right;\">\n",
       "      <th></th>\n",
       "      <th>0</th>\n",
       "      <th>1</th>\n",
       "      <th>2</th>\n",
       "      <th>3</th>\n",
       "      <th>4</th>\n",
       "    </tr>\n",
       "  </thead>\n",
       "  <tbody>\n",
       "    <tr>\n",
       "      <th>-1.0</th>\n",
       "      <td>29.616516</td>\n",
       "      <td>78.172432</td>\n",
       "      <td>77.084063</td>\n",
       "      <td>75.920863</td>\n",
       "      <td>75.956160</td>\n",
       "    </tr>\n",
       "    <tr>\n",
       "      <th>-0.9</th>\n",
       "      <td>29.616516</td>\n",
       "      <td>78.172432</td>\n",
       "      <td>77.084063</td>\n",
       "      <td>75.920863</td>\n",
       "      <td>75.956160</td>\n",
       "    </tr>\n",
       "    <tr>\n",
       "      <th>-0.8</th>\n",
       "      <td>29.616516</td>\n",
       "      <td>78.172432</td>\n",
       "      <td>77.084063</td>\n",
       "      <td>75.920863</td>\n",
       "      <td>75.956160</td>\n",
       "    </tr>\n",
       "    <tr>\n",
       "      <th>-0.7</th>\n",
       "      <td>29.616516</td>\n",
       "      <td>78.172432</td>\n",
       "      <td>77.084063</td>\n",
       "      <td>75.920863</td>\n",
       "      <td>75.956160</td>\n",
       "    </tr>\n",
       "    <tr>\n",
       "      <th>-0.6</th>\n",
       "      <td>29.546939</td>\n",
       "      <td>78.170487</td>\n",
       "      <td>77.022365</td>\n",
       "      <td>75.951311</td>\n",
       "      <td>75.958664</td>\n",
       "    </tr>\n",
       "    <tr>\n",
       "      <th>-0.5</th>\n",
       "      <td>29.167796</td>\n",
       "      <td>77.359646</td>\n",
       "      <td>76.423088</td>\n",
       "      <td>76.166970</td>\n",
       "      <td>76.309672</td>\n",
       "    </tr>\n",
       "    <tr>\n",
       "      <th>-0.4</th>\n",
       "      <td>28.359475</td>\n",
       "      <td>75.292998</td>\n",
       "      <td>75.082971</td>\n",
       "      <td>76.693762</td>\n",
       "      <td>77.097177</td>\n",
       "    </tr>\n",
       "    <tr>\n",
       "      <th>-0.3</th>\n",
       "      <td>26.963708</td>\n",
       "      <td>72.918394</td>\n",
       "      <td>72.783613</td>\n",
       "      <td>77.316965</td>\n",
       "      <td>78.447100</td>\n",
       "    </tr>\n",
       "    <tr>\n",
       "      <th>-0.2</th>\n",
       "      <td>27.180778</td>\n",
       "      <td>69.150242</td>\n",
       "      <td>70.058746</td>\n",
       "      <td>78.179824</td>\n",
       "      <td>79.894986</td>\n",
       "    </tr>\n",
       "    <tr>\n",
       "      <th>-0.1</th>\n",
       "      <td>25.524688</td>\n",
       "      <td>66.000403</td>\n",
       "      <td>67.215913</td>\n",
       "      <td>78.643111</td>\n",
       "      <td>82.015298</td>\n",
       "    </tr>\n",
       "    <tr>\n",
       "      <th>0.0</th>\n",
       "      <td>24.456567</td>\n",
       "      <td>61.875916</td>\n",
       "      <td>64.631337</td>\n",
       "      <td>78.918084</td>\n",
       "      <td>84.506062</td>\n",
       "    </tr>\n",
       "    <tr>\n",
       "      <th>0.1</th>\n",
       "      <td>23.491945</td>\n",
       "      <td>58.406951</td>\n",
       "      <td>61.778443</td>\n",
       "      <td>79.094520</td>\n",
       "      <td>87.025595</td>\n",
       "    </tr>\n",
       "    <tr>\n",
       "      <th>0.2</th>\n",
       "      <td>22.897948</td>\n",
       "      <td>55.758809</td>\n",
       "      <td>59.061107</td>\n",
       "      <td>78.873044</td>\n",
       "      <td>89.668698</td>\n",
       "    </tr>\n",
       "    <tr>\n",
       "      <th>0.3</th>\n",
       "      <td>21.619140</td>\n",
       "      <td>52.894042</td>\n",
       "      <td>56.792752</td>\n",
       "      <td>78.495166</td>\n",
       "      <td>92.487641</td>\n",
       "    </tr>\n",
       "    <tr>\n",
       "      <th>0.4</th>\n",
       "      <td>19.679675</td>\n",
       "      <td>50.043979</td>\n",
       "      <td>54.339591</td>\n",
       "      <td>78.194011</td>\n",
       "      <td>95.407520</td>\n",
       "    </tr>\n",
       "    <tr>\n",
       "      <th>0.5</th>\n",
       "      <td>18.804002</td>\n",
       "      <td>46.926726</td>\n",
       "      <td>51.835330</td>\n",
       "      <td>77.637801</td>\n",
       "      <td>98.600877</td>\n",
       "    </tr>\n",
       "    <tr>\n",
       "      <th>0.6</th>\n",
       "      <td>18.995694</td>\n",
       "      <td>44.525211</td>\n",
       "      <td>50.137788</td>\n",
       "      <td>76.918601</td>\n",
       "      <td>101.188859</td>\n",
       "    </tr>\n",
       "    <tr>\n",
       "      <th>0.7</th>\n",
       "      <td>18.172782</td>\n",
       "      <td>41.106953</td>\n",
       "      <td>48.052292</td>\n",
       "      <td>76.282598</td>\n",
       "      <td>104.370408</td>\n",
       "    </tr>\n",
       "    <tr>\n",
       "      <th>0.8</th>\n",
       "      <td>16.497241</td>\n",
       "      <td>39.007919</td>\n",
       "      <td>46.057147</td>\n",
       "      <td>75.052737</td>\n",
       "      <td>108.001923</td>\n",
       "    </tr>\n",
       "    <tr>\n",
       "      <th>0.9</th>\n",
       "      <td>16.015964</td>\n",
       "      <td>37.999645</td>\n",
       "      <td>44.130974</td>\n",
       "      <td>74.003648</td>\n",
       "      <td>110.742770</td>\n",
       "    </tr>\n",
       "    <tr>\n",
       "      <th>1.0</th>\n",
       "      <td>15.987513</td>\n",
       "      <td>36.681286</td>\n",
       "      <td>42.746668</td>\n",
       "      <td>72.839422</td>\n",
       "      <td>113.446766</td>\n",
       "    </tr>\n",
       "    <tr>\n",
       "      <th>1.1</th>\n",
       "      <td>15.587640</td>\n",
       "      <td>34.642288</td>\n",
       "      <td>40.964406</td>\n",
       "      <td>71.871182</td>\n",
       "      <td>116.391504</td>\n",
       "    </tr>\n",
       "    <tr>\n",
       "      <th>1.2</th>\n",
       "      <td>15.253810</td>\n",
       "      <td>33.287204</td>\n",
       "      <td>39.363864</td>\n",
       "      <td>70.805575</td>\n",
       "      <td>119.135478</td>\n",
       "    </tr>\n",
       "    <tr>\n",
       "      <th>1.3</th>\n",
       "      <td>14.843746</td>\n",
       "      <td>32.297988</td>\n",
       "      <td>38.402083</td>\n",
       "      <td>69.298303</td>\n",
       "      <td>122.045713</td>\n",
       "    </tr>\n",
       "    <tr>\n",
       "      <th>1.4</th>\n",
       "      <td>14.294751</td>\n",
       "      <td>30.505233</td>\n",
       "      <td>36.764900</td>\n",
       "      <td>67.964083</td>\n",
       "      <td>125.344005</td>\n",
       "    </tr>\n",
       "    <tr>\n",
       "      <th>1.5</th>\n",
       "      <td>14.160678</td>\n",
       "      <td>29.199002</td>\n",
       "      <td>36.205203</td>\n",
       "      <td>66.983019</td>\n",
       "      <td>127.410351</td>\n",
       "    </tr>\n",
       "    <tr>\n",
       "      <th>1.6</th>\n",
       "      <td>13.835468</td>\n",
       "      <td>28.251862</td>\n",
       "      <td>35.169738</td>\n",
       "      <td>66.136651</td>\n",
       "      <td>129.438024</td>\n",
       "    </tr>\n",
       "    <tr>\n",
       "      <th>1.7</th>\n",
       "      <td>13.198907</td>\n",
       "      <td>27.079557</td>\n",
       "      <td>34.302368</td>\n",
       "      <td>64.958808</td>\n",
       "      <td>131.953338</td>\n",
       "    </tr>\n",
       "    <tr>\n",
       "      <th>1.8</th>\n",
       "      <td>13.061968</td>\n",
       "      <td>26.374712</td>\n",
       "      <td>32.892212</td>\n",
       "      <td>63.921547</td>\n",
       "      <td>134.312890</td>\n",
       "    </tr>\n",
       "    <tr>\n",
       "      <th>1.9</th>\n",
       "      <td>12.789516</td>\n",
       "      <td>25.895219</td>\n",
       "      <td>32.162438</td>\n",
       "      <td>62.702412</td>\n",
       "      <td>136.526344</td>\n",
       "    </tr>\n",
       "  </tbody>\n",
       "</table>\n",
       "</div>"
      ],
      "text/plain": [
       "              0          1          2          3           4\n",
       "-1.0  29.616516  78.172432  77.084063  75.920863   75.956160\n",
       "-0.9  29.616516  78.172432  77.084063  75.920863   75.956160\n",
       "-0.8  29.616516  78.172432  77.084063  75.920863   75.956160\n",
       "-0.7  29.616516  78.172432  77.084063  75.920863   75.956160\n",
       "-0.6  29.546939  78.170487  77.022365  75.951311   75.958664\n",
       "-0.5  29.167796  77.359646  76.423088  76.166970   76.309672\n",
       "-0.4  28.359475  75.292998  75.082971  76.693762   77.097177\n",
       "-0.3  26.963708  72.918394  72.783613  77.316965   78.447100\n",
       "-0.2  27.180778  69.150242  70.058746  78.179824   79.894986\n",
       "-0.1  25.524688  66.000403  67.215913  78.643111   82.015298\n",
       " 0.0  24.456567  61.875916  64.631337  78.918084   84.506062\n",
       " 0.1  23.491945  58.406951  61.778443  79.094520   87.025595\n",
       " 0.2  22.897948  55.758809  59.061107  78.873044   89.668698\n",
       " 0.3  21.619140  52.894042  56.792752  78.495166   92.487641\n",
       " 0.4  19.679675  50.043979  54.339591  78.194011   95.407520\n",
       " 0.5  18.804002  46.926726  51.835330  77.637801   98.600877\n",
       " 0.6  18.995694  44.525211  50.137788  76.918601  101.188859\n",
       " 0.7  18.172782  41.106953  48.052292  76.282598  104.370408\n",
       " 0.8  16.497241  39.007919  46.057147  75.052737  108.001923\n",
       " 0.9  16.015964  37.999645  44.130974  74.003648  110.742770\n",
       " 1.0  15.987513  36.681286  42.746668  72.839422  113.446766\n",
       " 1.1  15.587640  34.642288  40.964406  71.871182  116.391504\n",
       " 1.2  15.253810  33.287204  39.363864  70.805575  119.135478\n",
       " 1.3  14.843746  32.297988  38.402083  69.298303  122.045713\n",
       " 1.4  14.294751  30.505233  36.764900  67.964083  125.344005\n",
       " 1.5  14.160678  29.199002  36.205203  66.983019  127.410351\n",
       " 1.6  13.835468  28.251862  35.169738  66.136651  129.438024\n",
       " 1.7  13.198907  27.079557  34.302368  64.958808  131.953338\n",
       " 1.8  13.061968  26.374712  32.892212  63.921547  134.312890\n",
       " 1.9  12.789516  25.895219  32.162438  62.702412  136.526344"
      ]
     },
     "execution_count": 38,
     "metadata": {},
     "output_type": "execute_result"
    }
   ],
   "source": [
    "df_final"
   ]
  },
  {
   "cell_type": "code",
   "execution_count": 39,
   "id": "309e1dfb",
   "metadata": {},
   "outputs": [
    {
     "data": {
      "image/png": "[encoded data removed]",
      "text/plain": [
       "<Figure size 720x504 with 1 Axes>"
      ]
     },
     "metadata": {
      "needs_background": "light"
     },
     "output_type": "display_data"
    }
   ],
   "source": [
    "plt.figure(figsize=(10,7))\n",
    "\n",
    "cores = {0:'red',1:'orange',2:'yellow',3:'green',4:'blue'}\n",
    "for i, col in enumerate(df_final):\n",
    "    plt.plot(df_final.index, df_final[col], label=col, color=cores[i], marker='.')\n",
    "\n",
    "#plt.plot(df_final.iloc[13:], marker='o',color={'0':'red'})\n",
    "plt.ylabel('Tempo médio (miutos)')\n",
    "plt.xlabel('Fator de Justiça')\n",
    "plt.legend(['P0','P1','P2','P3','P4'])\n",
    "plt.title('Curva de tempo médio (minutos) de cada prioridade ao variar o fator de justiça')\n",
    "plt.savefig('Grafico7')"
   ]
  },
  {
   "cell_type": "code",
   "execution_count": null,
   "id": "1c1bf22e",
   "metadata": {},
   "outputs": [],
   "source": []
  }
 ],
 "metadata": {
  "kernelspec": {
   "display_name": "Python 3 (ipykernel)",
   "language": "python",
   "name": "python3"
  },
  "language_info": {
   "codemirror_mode": {
    "name": "ipython",
    "version": 3
   },
   "file_extension": ".py",
   "mimetype": "text/x-python",
   "name": "python",
   "nbconvert_exporter": "python",
   "pygments_lexer": "ipython3",
   "version": "3.9.7"
  }
 },
 "nbformat": 4,
 "nbformat_minor": 5
}
